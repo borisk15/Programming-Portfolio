{
 "cells": [
  {
   "cell_type": "markdown",
   "metadata": {},
   "source": [
    "---\n",
    "\n",
    "_You are currently looking at **version 1.1** of this notebook. To download notebooks and datafiles, as well as get help on Jupyter notebooks in the Coursera platform, visit the [Jupyter Notebook FAQ](https://www.coursera.org/learn/python-data-analysis/resources/0dhYG) course resource._\n",
    "\n",
    "---"
   ]
  },
  {
   "cell_type": "code",
   "execution_count": 1,
   "metadata": {
    "collapsed": true
   },
   "outputs": [],
   "source": [
    "import pandas as pd\n",
    "import numpy as np\n",
    "from scipy.stats import ttest_ind"
   ]
  },
  {
   "cell_type": "markdown",
   "metadata": {},
   "source": [
    "# Assignment 4 - Hypothesis Testing\n",
    "This assignment requires more individual learning than previous assignments - you are encouraged to check out the [pandas documentation](http://pandas.pydata.org/pandas-docs/stable/) to find functions or methods you might not have used yet, or ask questions on [Stack Overflow](http://stackoverflow.com/) and tag them as pandas and python related. And of course, the discussion forums are open for interaction with your peers and the course staff.\n",
    "\n",
    "Definitions:\n",
    "* A _quarter_ is a specific three month period, Q1 is January through March, Q2 is April through June, Q3 is July through September, Q4 is October through December.\n",
    "* A _recession_ is defined as starting with two consecutive quarters of GDP decline, and ending with two consecutive quarters of GDP growth.\n",
    "* A _recession bottom_ is the quarter within a recession which had the lowest GDP.\n",
    "* A _university town_ is a city which has a high percentage of university students compared to the total population of the city.\n",
    "\n",
    "**Hypothesis**: University towns have their mean housing prices less effected by recessions. Run a t-test to compare the ratio of the mean price of houses in university towns the quarter before the recession starts compared to the recession bottom. (`price_ratio=quarter_before_recession/recession_bottom`)\n",
    "\n",
    "The following data files are available for this assignment:\n",
    "* From the [Zillow research data site](http://www.zillow.com/research/data/) there is housing data for the United States. In particular the datafile for [all homes at a city level](http://files.zillowstatic.com/research/public/City/City_Zhvi_AllHomes.csv), ```City_Zhvi_AllHomes.csv```, has median home sale prices at a fine grained level.\n",
    "* From the Wikipedia page on college towns is a list of [university towns in the United States](https://en.wikipedia.org/wiki/List_of_college_towns#College_towns_in_the_United_States) which has been copy and pasted into the file ```university_towns.txt```.\n",
    "* From Bureau of Economic Analysis, US Department of Commerce, the [GDP over time](http://www.bea.gov/national/index.htm#gdp) of the United States in current dollars (use the chained value in 2009 dollars), in quarterly intervals, in the file ```gdplev.xls```. For this assignment, only look at GDP data from the first quarter of 2000 onward.\n",
    "\n",
    "Each function in this assignment below is worth 10%, with the exception of ```run_ttest()```, which is worth 50%."
   ]
  },
  {
   "cell_type": "code",
   "execution_count": 2,
   "metadata": {
    "collapsed": true
   },
   "outputs": [],
   "source": [
    "# Use this dictionary to map state names to two letter acronyms\n",
    "states = {'OH': 'Ohio', 'KY': 'Kentucky', 'AS': 'American Samoa', 'NV': 'Nevada', 'WY': 'Wyoming', 'NA': 'National', 'AL': 'Alabama', 'MD': 'Maryland', 'AK': 'Alaska', 'UT': 'Utah', 'OR': 'Oregon', 'MT': 'Montana', 'IL': 'Illinois', 'TN': 'Tennessee', 'DC': 'District of Columbia', 'VT': 'Vermont', 'ID': 'Idaho', 'AR': 'Arkansas', 'ME': 'Maine', 'WA': 'Washington', 'HI': 'Hawaii', 'WI': 'Wisconsin', 'MI': 'Michigan', 'IN': 'Indiana', 'NJ': 'New Jersey', 'AZ': 'Arizona', 'GU': 'Guam', 'MS': 'Mississippi', 'PR': 'Puerto Rico', 'NC': 'North Carolina', 'TX': 'Texas', 'SD': 'South Dakota', 'MP': 'Northern Mariana Islands', 'IA': 'Iowa', 'MO': 'Missouri', 'CT': 'Connecticut', 'WV': 'West Virginia', 'SC': 'South Carolina', 'LA': 'Louisiana', 'KS': 'Kansas', 'NY': 'New York', 'NE': 'Nebraska', 'OK': 'Oklahoma', 'FL': 'Florida', 'CA': 'California', 'CO': 'Colorado', 'PA': 'Pennsylvania', 'DE': 'Delaware', 'NM': 'New Mexico', 'RI': 'Rhode Island', 'MN': 'Minnesota', 'VI': 'Virgin Islands', 'NH': 'New Hampshire', 'MA': 'Massachusetts', 'GA': 'Georgia', 'ND': 'North Dakota', 'VA': 'Virginia'}"
   ]
  },
  {
   "cell_type": "code",
   "execution_count": 351,
   "metadata": {
    "collapsed": true,
    "umich_part_id": "021",
    "umich_partlist_id": "004"
   },
   "outputs": [],
   "source": [
    "def get_list_of_university_towns():\n",
    "    '''Returns a DataFrame of towns and the states they are in from the \n",
    "    university_towns.txt list. The format of the DataFrame should be:\n",
    "    DataFrame( [ [\"Michigan\", \"Ann Arbor\"], [\"Michigan\", \"Yipsilanti\"] ], \n",
    "    columns=[\"State\", \"RegionName\"]  )\n",
    "    \n",
    "    The following cleaning needs to be done:\n",
    "\n",
    "    1. For \"State\", removing characters from \"[\" to the end.\n",
    "    2. For \"RegionName\", when applicable, removing every character from \" (\" to the end.\n",
    "    3. Depending on how you read the data, you may need to remove newline character '\\n'. '''\n",
    "    \n",
    "    university_towns = pd.read_table('university_towns.txt', header=None)\n",
    "    mylist = []\n",
    "    state = ''\n",
    "    region = ''\n",
    "\n",
    "    for value in university_towns[0]:\n",
    "        if ('[ed' in value):\n",
    "            state = value.split('[ed')[0]\n",
    "\n",
    "        else:\n",
    "            region = value.split('(')[0].strip()\n",
    "            mylist.append([state, region])\n",
    "    \n",
    "    df = pd.DataFrame(mylist, columns=['State', 'RegionName'])\n",
    "    \n",
    "    return df"
   ]
  },
  {
   "cell_type": "code",
   "execution_count": 352,
   "metadata": {
    "collapsed": true,
    "umich_part_id": "022",
    "umich_partlist_id": "004"
   },
   "outputs": [],
   "source": [
    "def get_recession_start():\n",
    "    '''Returns the year and quarter of the recession start time as a \n",
    "    string value in a format such as 2005q3'''\n",
    "    \n",
    "    GDP_quarterly = pd.read_excel('gdplev.xls', skiprows=220, header = None, names=['A','B','C','D', 'YearQuarter',\n",
    "                                                                                'GDP in billions of current dollars',\n",
    "                                                                               'GDP in billions of chained 2009 dollars','E'])\n",
    "    \n",
    "    GDP_quarterly = GDP_quarterly[['YearQuarter', 'GDP in billions of chained 2009 dollars']]\n",
    "    df = GDP_quarterly['GDP in billions of chained 2009 dollars']\n",
    "    \n",
    "    l = []\n",
    "    for i in range(2,len(df)-1):\n",
    "        if ((df[i] < df[i-1]) & (df[i-1] < df[i-2])):\n",
    "            a = GDP_quarterly.loc[(i-1),'YearQuarter']\n",
    "            l.append(a)\n",
    "    \n",
    "    answer = l[0]\n",
    "    \n",
    "    return answer"
   ]
  },
  {
   "cell_type": "code",
   "execution_count": 353,
   "metadata": {
    "collapsed": true,
    "umich_part_id": "023",
    "umich_partlist_id": "004"
   },
   "outputs": [],
   "source": [
    "def get_recession_end():\n",
    "    '''Returns the year and quarter of the recession end time as a \n",
    "    string value in a format such as 2005q3'''\n",
    "    \n",
    "    recession_start = get_recession_start()\n",
    "    GDP_quarterly = pd.read_excel('gdplev.xls', skiprows=220, header = None, names=['A','B','C','D', 'YearQuarter',\n",
    "                                                                                'GDP in billions of current dollars',\n",
    "                                                                               'GDP in billions of chained 2009 dollars','E'])\n",
    "    \n",
    "    GDP_quarterly = GDP_quarterly[['YearQuarter', 'GDP in billions of chained 2009 dollars']]\n",
    "    df = GDP_quarterly['GDP in billions of chained 2009 dollars']\n",
    "    \n",
    "    l = []\n",
    "    for i in range(2,len(df)-1):\n",
    "        if ((df[i] > df[i-1]) & (df[i-1] > df[i-2])):\n",
    "            a = GDP_quarterly.loc[i,'YearQuarter']\n",
    "            l.append(a)\n",
    "    \n",
    "    final_l=[]\n",
    "    for i in range(0, len(l)-1):\n",
    "        if (l[i] > recession_start):\n",
    "            a = l[i]\n",
    "            final_l.append(a)\n",
    "            \n",
    "    answer = final_l[0]\n",
    "    \n",
    "    return answer"
   ]
  },
  {
   "cell_type": "code",
   "execution_count": 403,
   "metadata": {
    "collapsed": true,
    "umich_part_id": "024",
    "umich_partlist_id": "004"
   },
   "outputs": [],
   "source": [
    "def get_recession_bottom():\n",
    "    '''Returns the year and quarter of the recession bottom time as a \n",
    "    string value in a format such as 2005q3'''\n",
    "    \n",
    "    recession_start = get_recession_start()\n",
    "    recession_end = get_recession_end()\n",
    "    \n",
    "    GDP_quarterly = pd.read_excel('gdplev.xls', skiprows=220, header = None, names=['A','B','C','D', 'YearQuarter',\n",
    "                                                                                'GDP in billions of current dollars',\n",
    "                                                                               'GDP in billions of chained 2009 dollars','E'])\n",
    "    \n",
    "    GDP_quarterly = GDP_quarterly[['YearQuarter', 'GDP in billions of chained 2009 dollars']]\n",
    "    \n",
    "    df = GDP_quarterly[GDP_quarterly['YearQuarter'] <= recession_end]\n",
    "    df = df[df['YearQuarter'] >= recession_start]\n",
    "    index = np.argmin(df['GDP in billions of chained 2009 dollars'])\n",
    "    answer = df.loc[index, 'YearQuarter']\n",
    "    \n",
    "    return answer"
   ]
  },
  {
   "cell_type": "code",
   "execution_count": 404,
   "metadata": {},
   "outputs": [
    {
     "data": {
      "text/plain": [
       "'2009q2'"
      ]
     },
     "execution_count": 404,
     "metadata": {},
     "output_type": "execute_result"
    }
   ],
   "source": [
    "get_recession_bottom()"
   ]
  },
  {
   "cell_type": "code",
   "execution_count": 373,
   "metadata": {
    "collapsed": true,
    "umich_part_id": "025",
    "umich_partlist_id": "004"
   },
   "outputs": [],
   "source": [
    "def convert_housing_data_to_quarters():\n",
    "    '''Converts the housing data to quarters and returns it as mean \n",
    "    values in a dataframe. This dataframe should be a dataframe with\n",
    "    columns for 2000q1 through 2016q3, and should have a multi-index\n",
    "    in the shape of [\"State\",\"RegionName\"].\n",
    "    \n",
    "    Note: Quarters are defined in the assignment description, they are\n",
    "    not arbitrary three month periods.\n",
    "    \n",
    "    The resulting dataframe should have 67 columns, and 10,730 rows.\n",
    "    '''\n",
    "    \n",
    "    states = {'OH': 'Ohio', 'KY': 'Kentucky', 'AS': 'American Samoa', 'NV': 'Nevada', 'WY': 'Wyoming', 'NA': 'National', 'AL': 'Alabama', 'MD': 'Maryland', 'AK': 'Alaska', 'UT': 'Utah', 'OR': 'Oregon', 'MT': 'Montana', 'IL': 'Illinois', 'TN': 'Tennessee', 'DC': 'District of Columbia', 'VT': 'Vermont', 'ID': 'Idaho', 'AR': 'Arkansas', 'ME': 'Maine', 'WA': 'Washington', 'HI': 'Hawaii', 'WI': 'Wisconsin', 'MI': 'Michigan', 'IN': 'Indiana', 'NJ': 'New Jersey', 'AZ': 'Arizona', 'GU': 'Guam', 'MS': 'Mississippi', 'PR': 'Puerto Rico', 'NC': 'North Carolina', 'TX': 'Texas', 'SD': 'South Dakota', 'MP': 'Northern Mariana Islands', 'IA': 'Iowa', 'MO': 'Missouri', 'CT': 'Connecticut', 'WV': 'West Virginia', 'SC': 'South Carolina', 'LA': 'Louisiana', 'KS': 'Kansas', 'NY': 'New York', 'NE': 'Nebraska', 'OK': 'Oklahoma', 'FL': 'Florida', 'CA': 'California', 'CO': 'Colorado', 'PA': 'Pennsylvania', 'DE': 'Delaware', 'NM': 'New Mexico', 'RI': 'Rhode Island', 'MN': 'Minnesota', 'VI': 'Virgin Islands', 'NH': 'New Hampshire', 'MA': 'Massachusetts', 'GA': 'Georgia', 'ND': 'North Dakota', 'VA': 'Virginia'}\n",
    "    \n",
    "    housing_data = pd.read_csv('City_Zhvi_AllHomes.csv')\n",
    "    housing_data = housing_data.replace({'State':states})\n",
    "    housing_data = housing_data.set_index(['State', 'RegionName'])\n",
    "    \n",
    "    dates = pd.date_range('01-2000', periods=200, freq='M')\n",
    "    dates = pd.PeriodIndex(dates, freq='M')\n",
    "    cols = dates.strftime('%Y-%m')\n",
    "\n",
    "    housing_data = housing_data[cols]\n",
    "    housing_data.columns = pd.to_datetime(housing_data.columns)\n",
    "    housing_data = housing_data.resample('Q',axis=1).mean()\n",
    "    housing_data.columns = housing_data.columns.strftime('%Y-%m')\n",
    "    \n",
    "    mylist = []\n",
    "    for date in housing_data.columns:\n",
    "        if (date.split('-')[1] == '03'):\n",
    "            mylist.append(date.split('-')[0] + 'q1')\n",
    "        elif(date.split('-')[1] == '06'):\n",
    "            mylist.append(date.split('-')[0] + 'q2')\n",
    "        elif(date.split('-')[1] == '09'):\n",
    "            mylist.append(date.split('-')[0] + 'q3')\n",
    "        else:\n",
    "            mylist.append(date.split('-')[0] + 'q4')\n",
    "\n",
    "    housing_data.columns = mylist\n",
    "\n",
    "    return housing_data"
   ]
  },
  {
   "cell_type": "code",
   "execution_count": 399,
   "metadata": {
    "collapsed": true,
    "umich_part_id": "026",
    "umich_partlist_id": "004"
   },
   "outputs": [],
   "source": [
    "def run_ttest():\n",
    "    '''First creates new data showing the decline or growth of housing prices\n",
    "    between the recession start and the recession bottom. Then runs a ttest\n",
    "    comparing the university town values to the non-university towns values, \n",
    "    return whether the alternative hypothesis (that the two groups are the same)\n",
    "    is true or not as well as the p-value of the confidence. \n",
    "    \n",
    "    Return the tuple (different, p, better) where different=True if the t-test is\n",
    "    True at a p<0.01 (we reject the null hypothesis), or different=False if \n",
    "    otherwise (we cannot reject the null hypothesis). The variable p should\n",
    "    be equal to the exact p value returned from scipy.stats.ttest_ind(). The\n",
    "    value for better should be either \"university town\" or \"non-university town\"\n",
    "    depending on which has a lower mean price ratio (which is equivilent to a\n",
    "    reduced market loss).'''\n",
    "    \n",
    "    df = convert_housing_data_to_quarters()\n",
    "    univ_towns = get_list_of_university_towns()\n",
    "    y = get_recession_bottom()\n",
    "    x = get_recession_start()\n",
    "\n",
    "    quarterbefore = pd.to_datetime(x) - pd.DateOffset(days = 1)\n",
    "    quarterbefore = quarterbefore.strftime('%Y-%m')\n",
    "    \n",
    "    if (quarterbefore.split('-')[1] == '03'):\n",
    "        quarterbefore = quarterbefore.split('-')[0] + 'q1'\n",
    "    elif(quarterbefore.split('-')[1] == '06'):\n",
    "        quarterbefore = quarterbefore.split('-')[0] + 'q2'\n",
    "    elif(quarterbefore.split('-')[1] == '09'):\n",
    "        quarterbefore = quarterbefore.split('-')[0] + 'q3'\n",
    "    else:\n",
    "        quarterbefore = quarterbefore.split('-')[0] + 'q4'\n",
    "    \n",
    "    price_ratio = df[quarterbefore].div(df[y])\n",
    "    df['PriceRatio'] = price_ratio\n",
    "\n",
    "    mylist = univ_towns.to_records(index=False).tolist()\n",
    "    df_1 = df.loc[mylist]\n",
    "    df_2 = df.loc[-df.index.isin(mylist)]\n",
    "\n",
    "    result = ttest_ind(df_1['PriceRatio'], df_2['PriceRatio'], nan_policy='omit')\n",
    "    pvalue = result[1]\n",
    "\n",
    "    different = pvalue < 0.01\n",
    "    p = pvalue\n",
    "    m1 = df_1['PriceRatio'].mean()\n",
    "    m2 = df_2['PriceRatio'].mean()\n",
    "\n",
    "    if m1<m2:\n",
    "        better = \"university town\"\n",
    "    else:\n",
    "        better = \"non-university town\"\n",
    "    \n",
    "    answer = (different, p, better)\n",
    "    \n",
    "    return answer"
   ]
  }
 ],
 "metadata": {
  "coursera": {
   "course_slug": "python-data-analysis",
   "graded_item_id": "Il9Fx",
   "launcher_item_id": "TeDW0",
   "part_id": "WGlun"
  },
  "kernelspec": {
   "display_name": "Python 3",
   "language": "python",
   "name": "python3"
  },
  "language_info": {
   "codemirror_mode": {
    "name": "ipython",
    "version": 3
   },
   "file_extension": ".py",
   "mimetype": "text/x-python",
   "name": "python",
   "nbconvert_exporter": "python",
   "pygments_lexer": "ipython3",
   "version": "3.6.0"
  },
  "umich": {
   "id": "Assignment 4",
   "version": "1.1"
  }
 },
 "nbformat": 4,
 "nbformat_minor": 1
}
